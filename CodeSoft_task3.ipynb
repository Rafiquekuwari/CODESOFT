{
  "nbformat": 4,
  "nbformat_minor": 0,
  "metadata": {
    "colab": {
      "provenance": [],
      "mount_file_id": "13pkMjYIgA7e0OMzIKJgZvNlze_Dp0-85",
      "authorship_tag": "ABX9TyM5cSpk6jNni6pqQ6s0zdq3",
      "include_colab_link": true
    },
    "kernelspec": {
      "name": "python3",
      "display_name": "Python 3"
    },
    "language_info": {
      "name": "python"
    }
  },
  "cells": [
    {
      "cell_type": "markdown",
      "metadata": {
        "id": "view-in-github",
        "colab_type": "text"
      },
      "source": [
        "<a href=\"https://colab.research.google.com/github/Rafiquekuwari/CODESOFT/blob/main/CodeSoft_task3.ipynb\" target=\"_parent\"><img src=\"https://colab.research.google.com/assets/colab-badge.svg\" alt=\"Open In Colab\"/></a>"
      ]
    },
    {
      "cell_type": "code",
      "source": [
        "!pip install tensorflow transformers torch torchvision matplotlib\n"
      ],
      "metadata": {
        "id": "jajftaLZFlY1"
      },
      "execution_count": null,
      "outputs": []
    },
    {
      "cell_type": "code",
      "source": [
        "import torch\n",
        "from transformers import BlipProcessor, BlipForConditionalGeneration\n",
        "from google.colab import files\n",
        "import matplotlib.pyplot as plt\n",
        "from PIL import Image\n"
      ],
      "metadata": {
        "id": "6raazY22FnzR"
      },
      "execution_count": null,
      "outputs": []
    },
    {
      "cell_type": "code",
      "source": [
        "# Load pre-trained BLIP model and processor\n",
        "processor = BlipProcessor.from_pretrained(\"Salesforce/blip-image-captioning-base\")\n",
        "model = BlipForConditionalGeneration.from_pretrained(\"Salesforce/blip-image-captioning-base\")\n"
      ],
      "metadata": {
        "id": "BD8_sijAFxaF"
      },
      "execution_count": null,
      "outputs": []
    },
    {
      "cell_type": "code",
      "source": [
        "def generate_caption_from_uploaded_image():\n",
        "    # Upload image from local machine\n",
        "    uploaded = files.upload()\n",
        "\n",
        "    for img_path in uploaded.keys():\n",
        "        # Open and display the uploaded image\n",
        "        img = Image.open(img_path)\n",
        "        plt.imshow(img)\n",
        "        plt.axis('off')  # Remove axes for a cleaner look\n",
        "        plt.show()\n",
        "\n",
        "        # Preprocess image and use BLIP model to generate caption\n",
        "        inputs = processor(images=img, return_tensors=\"pt\")\n",
        "        out = model.generate(**inputs)\n",
        "\n",
        "        # Decode the generated caption\n",
        "        caption = processor.decode(out[0], skip_special_tokens=True)\n",
        "        print(\"Generated Caption: \", caption)\n"
      ],
      "metadata": {
        "id": "xO4Yk2uiF86j"
      },
      "execution_count": null,
      "outputs": []
    },
    {
      "cell_type": "code",
      "source": [
        "generate_caption_from_uploaded_image()\n"
      ],
      "metadata": {
        "id": "GLoa534nGLhc"
      },
      "execution_count": null,
      "outputs": []
    }
  ]
}